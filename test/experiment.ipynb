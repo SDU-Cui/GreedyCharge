{
 "cells": [
  {
   "cell_type": "code",
   "execution_count": 1,
   "metadata": {},
   "outputs": [],
   "source": [
    "using Distributions, Random\n",
    "using JLD2\n",
    "using greedy\n",
    "using Shared\n",
    "using NumOpt"
   ]
  },
  {
   "cell_type": "code",
   "execution_count": 2,
   "metadata": {},
   "outputs": [
    {
     "data": {
      "text/plain": [
       "TaskLocalRNG()"
      ]
     },
     "metadata": {},
     "output_type": "display_data"
    }
   ],
   "source": [
    "Random.seed!(113)"
   ]
  },
  {
   "cell_type": "markdown",
   "metadata": {},
   "source": [
    "<h1>Tasks setup</H1>"
   ]
  },
  {
   "cell_type": "code",
   "execution_count": 3,
   "metadata": {},
   "outputs": [
    {
     "name": "stdout",
     "output_type": "stream",
     "text": [
      "size(base_load) = (96, 3)\n"
     ]
    }
   ],
   "source": [
    "const T = 96\n",
    "const Δt = 15.0 / 60\n",
    "const base_load_total = rand(Normal(1000.0 , 20.0 ), T)\n",
    "base_load = [base_load_total ./ 3  base_load_total ./ 3  base_load_total ./ 3]\n",
    "@show size(base_load)\n",
    "price = rand(Normal(0.8, 0.2), T)\n",
    "clamp!(price, 0.4, 1.1)\n",
    ";"
   ]
  },
  {
   "cell_type": "code",
   "execution_count": 4,
   "metadata": {},
   "outputs": [
    {
     "data": {
      "text/plain": [
       "(959.1492756168113, 1052.0311759279086)"
      ]
     },
     "metadata": {},
     "output_type": "display_data"
    }
   ],
   "source": [
    "extrema(base_load_total)"
   ]
  },
  {
   "cell_type": "code",
   "execution_count": 5,
   "metadata": {},
   "outputs": [],
   "source": [
    "P_max = 6000.0\n",
    "pi_max = 8e-2\n",
    ";"
   ]
  },
  {
   "cell_type": "code",
   "execution_count": 6,
   "metadata": {},
   "outputs": [],
   "source": [
    "K = 100\n",
    "tasks = gen_tasks(T, K)\n",
    "env = Environment(T, Δt, P_max, pi_max, base_load, price, tasks)\n",
    ";"
   ]
  },
  {
   "cell_type": "markdown",
   "metadata": {},
   "source": [
    "<h1> Numerical optimization </h1>"
   ]
  },
  {
   "cell_type": "code",
   "execution_count": 7,
   "metadata": {},
   "outputs": [
    {
     "data": {
      "text/plain": [
       "(A JuMP Model\n",
       "Minimization problem with:\n",
       "Variables: 9600\n",
       "Objective function type: JuMP.AffExpr\n",
       "`JuMP.AffExpr`-in-`MathOptInterface.EqualTo{Float64}`: 100 constraints\n",
       "`JuMP.AffExpr`-in-`MathOptInterface.LessThan{Float64}`: 672 constraints\n",
       "`JuMP.VariableRef`-in-`MathOptInterface.EqualTo{Float64}`: 3238 constraints\n",
       "`JuMP.VariableRef`-in-`MathOptInterface.ZeroOne`: 9600 constraints\n",
       "Model mode: AUTOMATIC\n",
       "CachingOptimizer state: ATTACHED_OPTIMIZER\n",
       "Solver name: COIN Branch-and-Cut (Cbc)\n",
       "Names registered in the model: P_ch, P_phase, P_phase_avg, P_phase_diff, P_total, cost, found_solution, obj, opt_status, x, 42.144999980926514)"
      ]
     },
     "metadata": {},
     "output_type": "display_data"
    }
   ],
   "source": [
    "model, solve_time= solve!(env; optimizer=:Cbc, opt_options=Dict(\"logLevel\"=>0, \"ratioGap\"=>10e-3));\n",
    "# model, solve_time= solve!(env; optimizer=:Gurobi);"
   ]
  },
  {
   "cell_type": "code",
   "execution_count": 8,
   "metadata": {},
   "outputs": [
    {
     "name": "stdout",
     "output_type": "stream",
     "text": [
      "solve_time = 42.144999980926514\n"
     ]
    },
    {
     "data": {
      "text/plain": [
       "42.144999980926514"
      ]
     },
     "metadata": {},
     "output_type": "display_data"
    }
   ],
   "source": [
    "@show solve_time"
   ]
  },
  {
   "cell_type": "code",
   "execution_count": 9,
   "metadata": {},
   "outputs": [
    {
     "name": "stdout",
     "output_type": "stream",
     "text": [
      "👍The solution is feasible!\n"
     ]
    }
   ],
   "source": [
    "# @show model\n",
    "x = get_decision_matrix(model)\n",
    "validate_solution_feasibility(x, env)"
   ]
  },
  {
   "cell_type": "code",
   "execution_count": 10,
   "metadata": {},
   "outputs": [
    {
     "data": {
      "text/plain": [
       "3610.4524037302476"
      ]
     },
     "metadata": {},
     "output_type": "display_data"
    }
   ],
   "source": [
    "obj = get_value(model[:obj])"
   ]
  },
  {
   "cell_type": "code",
   "execution_count": 11,
   "metadata": {},
   "outputs": [
    {
     "data": {
      "text/plain": [
       "(975.161996169734, 1718.6372070665227)"
      ]
     },
     "metadata": {},
     "output_type": "display_data"
    }
   ],
   "source": [
    "get_value(model[:P_total])  |> extrema"
   ]
  },
  {
   "cell_type": "code",
   "execution_count": 12,
   "metadata": {},
   "outputs": [],
   "source": [
    "root_dir = @__DIR__ \n",
    "jldsave(joinpath(root_dir, \"data/tasks113.jld2\"); env, x, obj)"
   ]
  },
  {
   "cell_type": "markdown",
   "metadata": {},
   "source": [
    "<h1> Greedy optimization </h1>"
   ]
  },
  {
   "cell_type": "code",
   "execution_count": 13,
   "metadata": {},
   "outputs": [
    {
     "data": {
      "text/plain": [
       "([1 0 … 1 0; 1 0 … 1 0; … ; 0 0 … 0 0; 0 0 … 0 0], 0.23799991607666016)"
      ]
     },
     "metadata": {},
     "output_type": "display_data"
    }
   ],
   "source": [
    "result, GY_solve_time = run_greedy(env)"
   ]
  },
  {
   "cell_type": "code",
   "execution_count": 14,
   "metadata": {},
   "outputs": [
    {
     "data": {
      "text/plain": [
       "3622.0349754617905"
      ]
     },
     "metadata": {},
     "output_type": "display_data"
    }
   ],
   "source": [
    "get_value_greedy(result, env)"
   ]
  },
  {
   "cell_type": "code",
   "execution_count": 15,
   "metadata": {},
   "outputs": [
    {
     "ename": "AssertionError",
     "evalue": "AssertionError: all(h .== env.tasks.h)",
     "output_type": "error",
     "traceback": [
      "AssertionError: all(h .== env.tasks.h)\n",
      "\n",
      "Stacktrace:\n",
      " [1] validate_solution_feasibility(x::Matrix{Int64}, env::Environment)\n",
      "   @ Shared D:\\MyProject\\Charge_Pyomo\\greedy\\src\\Shared\\src\\struct.jl:60\n",
      " [2] top-level scope\n",
      "   @ d:\\MyProject\\Charge_Pyomo\\greedy\\test\\jl_notebook_cell_df34fa98e69747e1a8f8a730347b8e2f_X23sZmlsZQ==.jl:1"
     ]
    }
   ],
   "source": [
    "validate_solution_feasibility(result, env)"
   ]
  }
 ],
 "metadata": {
  "kernelspec": {
   "display_name": "Julia 1.9.3",
   "language": "julia",
   "name": "julia-1.9"
  },
  "language_info": {
   "file_extension": ".jl",
   "mimetype": "application/julia",
   "name": "julia",
   "version": "1.9.3"
  }
 },
 "nbformat": 4,
 "nbformat_minor": 2
}
