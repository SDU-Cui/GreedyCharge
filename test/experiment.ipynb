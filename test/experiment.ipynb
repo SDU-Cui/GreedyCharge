{
 "cells": [
  {
   "cell_type": "code",
   "execution_count": 1,
   "metadata": {},
   "outputs": [],
   "source": [
    "using Distributions, Random\n",
    "using JLD2\n",
    "using greedy\n",
    "using Shared\n",
    "using NumOpt"
   ]
  },
  {
   "cell_type": "code",
   "execution_count": 2,
   "metadata": {},
   "outputs": [
    {
     "data": {
      "text/plain": [
       "TaskLocalRNG()"
      ]
     },
     "metadata": {},
     "output_type": "display_data"
    }
   ],
   "source": [
    "Random.seed!(113)"
   ]
  },
  {
   "cell_type": "markdown",
   "metadata": {},
   "source": [
    "<h1>Tasks setup</H1>"
   ]
  },
  {
   "cell_type": "code",
   "execution_count": 3,
   "metadata": {},
   "outputs": [
    {
     "name": "stdout",
     "output_type": "stream",
     "text": [
      "size(base_load) = (96, 3)\n"
     ]
    }
   ],
   "source": [
    "const T = 96\n",
    "const Δt = 15.0 / 60\n",
    "const base_load_total = rand(Normal(1000.0 , 20.0 ), T)\n",
    "base_load = [base_load_total ./ 3  base_load_total ./ 3  base_load_total ./ 3]\n",
    "@show size(base_load)\n",
    "price = rand(Normal(0.8, 0.2), T)\n",
    "clamp!(price, 0.4, 1.1)\n",
    ";"
   ]
  },
  {
   "cell_type": "code",
   "execution_count": 4,
   "metadata": {},
   "outputs": [
    {
     "data": {
      "text/plain": [
       "(959.1492756168113, 1052.0311759279086)"
      ]
     },
     "metadata": {},
     "output_type": "display_data"
    }
   ],
   "source": [
    "extrema(base_load_total)"
   ]
  },
  {
   "cell_type": "code",
   "execution_count": 5,
   "metadata": {},
   "outputs": [],
   "source": [
    "P_max = 6000.0\n",
    "pi_max = 8e-2\n",
    ";"
   ]
  },
  {
   "cell_type": "code",
   "execution_count": 6,
   "metadata": {},
   "outputs": [],
   "source": [
    "K = 400\n",
    "tasks = gen_tasks(T, K)\n",
    "env = Environment(T, Δt, P_max, pi_max, base_load, price, tasks)\n",
    ";"
   ]
  },
  {
   "cell_type": "markdown",
   "metadata": {},
   "source": [
    "<h1> Numerical optimization </h1>"
   ]
  },
  {
   "cell_type": "code",
   "execution_count": 7,
   "metadata": {},
   "outputs": [
    {
     "name": "stdout",
     "output_type": "stream",
     "text": [
      "Set parameter Username\n",
      "Academic license - for non-commercial use only - expires 2025-05-15\n"
     ]
    },
    {
     "name": "stderr",
     "output_type": "stream",
     "text": [
      "┌ Warning: The addition operator has been used on JuMP expressions a large number of times. This warning is safe to ignore but may indicate that model generation is slower than necessary. For performance reasons, you should not add expressions in a loop. Instead of x += y, use add_to_expression!(x,y) to modify x in place. If y is a single variable, you may also use add_to_expression!(x, coef, y) for x += coef*y.\n",
      "└ @ JuMP C:\\Users\\lenovo\\.julia\\packages\\JuMP\\7rBNn\\src\\operators.jl:282\n"
     ]
    },
    {
     "name": "stdout",
     "output_type": "stream",
     "text": [
      "Gurobi Optimizer version 11.0.2 build v11.0.2rc0 (win64 - Windows 11.0 (22631.2))\n",
      "\n",
      "CPU model: Intel(R) Core(TM) i7-9700 CPU @ 3.00GHz, instruction set [SSE2|AVX|AVX2]\n",
      "Thread count: 8 physical cores, 8 logical processors, using up to 8 threads\n",
      "\n",
      "Optimize a model with 1072 rows, 38400 columns and 307200 nonzeros\n",
      "Model fingerprint: 0x8aa2646d\n",
      "Variable types: 0 continuous, 38400 integer (38400 binary)\n",
      "Coefficient statistics:\n",
      "  Matrix range     [1e-01, 1e+01]\n",
      "  Objective range  [4e-01, 3e+00]\n",
      "  Bounds range     [0e+00, 0e+00]\n",
      "  RHS range        [7e+00, 5e+03]\n",
      "Found heuristic solution: objective 17049.978075\n",
      "Presolve removed 74 rows and 13214 columns\n",
      "Presolve time: 0.17s\n",
      "Presolved: 998 rows, 25186 columns, 174277 nonzeros\n",
      "Variable types: 0 continuous, 25186 integer (25154 binary)\n",
      "Found heuristic solution: objective 16708.291251\n",
      "\n",
      "Root relaxation: objective 1.435039e+04, 2306 iterations, 0.07 seconds (0.11 work units)\n",
      "\n",
      "    Nodes    |    Current Node    |     Objective Bounds      |     Work\n",
      " Expl Unexpl |  Obj  Depth IntInf | Incumbent    BestBd   Gap | It/Node Time\n",
      "\n",
      "     0     0 14350.3862    0  134 16708.2913 14350.3862  14.1%     -    0s\n",
      "H    0     0                    14374.357357 14350.3862  0.17%     -    0s\n",
      "H    0     0                    14364.162029 14350.3862  0.10%     -    0s\n",
      "     0     0 14350.4063    0  219 14364.1620 14350.4063  0.10%     -    0s\n",
      "H    0     0                    14354.069978 14350.4063  0.03%     -    1s\n",
      "     0     0 14350.4619    0  210 14354.0700 14350.4619  0.03%     -    1s\n",
      "     0     0 14350.4631    0  195 14354.0700 14350.4631  0.03%     -    1s\n",
      "     0     0 14350.4773    0  244 14354.0700 14350.4773  0.03%     -    2s\n",
      "     0     0 14350.5197    0  226 14354.0700 14350.5197  0.02%     -    2s\n",
      "     0     0 14350.5468    0  219 14354.0700 14350.5468  0.02%     -    2s\n",
      "     0     0 14350.5514    0  227 14354.0700 14350.5514  0.02%     -    2s\n",
      "     0     0 14350.5520    0  213 14354.0700 14350.5520  0.02%     -    2s\n",
      "     0     0 14350.5626    0  224 14354.0700 14350.5626  0.02%     -    2s\n",
      "     0     0 14350.5700    0  208 14354.0700 14350.5700  0.02%     -    3s\n",
      "     0     0 14350.5723    0  204 14354.0700 14350.5723  0.02%     -    3s\n",
      "     0     0 14350.5751    0  238 14354.0700 14350.5751  0.02%     -    3s\n",
      "     0     0 14350.5754    0  228 14354.0700 14350.5754  0.02%     -    3s\n",
      "     0     0 14350.5850    0  239 14354.0700 14350.5850  0.02%     -    3s\n",
      "     0     0 14350.5850    0  182 14354.0700 14350.5850  0.02%     -    3s\n",
      "     0     2 14350.5850    0  175 14354.0700 14350.5850  0.02%     -    4s\n",
      "H   31    40                    14353.925779 14350.6062  0.02%   156    6s\n",
      "   478  1379 14350.6151   39  194 14353.9258 14350.6062  0.02%  19.5   13s\n",
      "  1378  1985 14350.6308  119  174 14353.9258 14350.6062  0.02%  13.3   15s\n",
      "H 1984  2173                    14353.713237 14350.6062  0.02%  13.4   17s\n",
      "H 2011  2173                    14353.591219 14350.6062  0.02%  13.3   17s\n",
      "H 2084  2173                    14353.343237 14350.6062  0.02%  13.5   17s\n",
      "  2172  2838 14350.6461  188  156 14353.3432 14350.6062  0.02%  13.5   20s\n",
      "H 3514  3523                    14352.779016 14350.6062  0.02%  14.0   25s\n",
      "H 3518  3523                    14352.765721 14350.6062  0.02%  14.0   25s\n",
      "  4199  4853 14350.6539  377  155 14352.7657 14350.6062  0.02%  14.3   30s\n",
      "H 4973  5398                    14352.765489 14350.6062  0.02%  14.1   33s\n",
      "  5401  6262 14350.6761  473  148 14352.7655 14350.6062  0.02%  13.9   35s\n",
      "  7125  8069 14350.7664  668  136 14352.7655 14350.6062  0.02%  13.0   43s\n",
      "H 7295  8069                    14352.747632 14350.6062  0.01%  12.7   43s\n",
      "H 8079  8067                    14352.671663 14350.6062  0.01%  12.1   43s\n",
      "  8082  8069 14350.6125   46  137 14352.6717 14350.6062  0.01%  12.1   45s\n",
      "H 8082  7665                    14352.547241 14350.6062  0.01%  12.1   47s\n",
      "  8097  7675 14350.6764  113  242 14352.5472 14350.6764  0.01%  12.1   50s\n",
      "H 8105  7300                    14352.466845 14350.6893  0.01%  14.2   53s\n",
      "  8135  7326 14350.7212   20  258 14352.4668 14350.7179  0.01%  15.6   55s\n",
      "H 8257  7041                    14352.462024 14350.7179  0.01%  16.1   59s\n",
      "H 8258  6694                    14352.454930 14350.7179  0.01%  16.1   59s\n",
      "H 8259  6364                    14352.371572 14350.7179  0.01%  16.1   59s\n",
      "  8265  6512 14350.7340   28  225 14352.3716 14350.7179  0.01%  16.1   61s\n",
      "  8415  6789 14350.7657   37  211 14352.3716 14350.7179  0.01%  16.7   65s\n",
      "  8742  7425 14350.7625   55  230 14352.3716 14350.7179  0.01%  17.7   74s\n",
      "  9487  8437 14350.8049  102  217 14352.3716 14350.7179  0.01%  19.8   81s\n",
      " 10747  9011 14350.9684  192  205 14352.3716 14350.7179  0.01%  21.9   86s\n",
      " 11741  9788 14350.8972  243  196 14352.3716 14350.7179  0.01%  22.6   90s\n",
      " 12853 10606 14351.1953  301  181 14352.3716 14350.7179  0.01%  23.0   95s\n",
      "H14866 11114                    14352.326095 14350.7179  0.01%  23.3  103s\n",
      " 15733 12147 14351.3057  453  134 14352.3261 14350.7179  0.01%  23.5  108s\n",
      " 17108 11756 14351.2740  482  159 14352.3261 14350.7179  0.01%  23.7  120s\n",
      "H17134 11437                    14352.284514 14350.7179  0.01%  23.8  120s\n",
      "H17171 11123                    14352.218797 14350.7179  0.01%  23.8  120s\n",
      "H17174 10848                    14352.212357 14350.7179  0.01%  23.8  120s\n",
      " 18197 12672 14351.2754  519  166 14352.2124 14350.7179  0.01%  23.7  127s\n",
      " 19367 13056 14351.5667  607  158 14352.2124 14350.7179  0.01%  23.2  131s\n",
      "H20261 12845                    14352.194668 14350.7179  0.01%  23.4  134s\n",
      " 20557 13503 14352.0387  669  133 14352.1947 14350.7179  0.01%  23.3  137s\n",
      " 21439 14096 14351.9931  708  141 14352.1947 14350.7179  0.01%  23.7  141s\n",
      " 23196 15669 14352.0871  781  146 14352.1947 14350.7179  0.01%  24.0  148s\n",
      " 24355 16960 14351.9944  824  140 14352.1947 14350.7179  0.01%  24.1  153s\n",
      " 25707 17957 14351.9951  863  142 14352.1947 14350.7179  0.01%  24.3  158s\n",
      " 26782 19207 14351.9953  901  141 14352.1947 14350.7179  0.01%  24.3  163s\n",
      " 28278 19533 14352.1150  941  145 14352.1947 14350.7179  0.01%  24.5  167s\n",
      " 28660 20976     cutoff  975      14352.1947 14350.7179  0.01%  24.7  172s\n",
      " 30136 22424 14351.9970 1026  148 14352.1947 14350.7179  0.01%  24.9  177s\n",
      "H31648 22386                    14352.189670 14350.7179  0.01%  25.2  212s\n",
      " 31652 22389 14351.9437  960  175 14352.1897 14350.7179  0.01%  25.2  215s\n",
      "H31652 21269                    14352.178851 14350.7179  0.01%  25.2  216s\n",
      "H31652 20205                    14352.025028 14350.7179  0.01%  25.2  216s\n",
      "\n",
      "Cutting planes:\n",
      "  Gomory: 12\n",
      "  Lift-and-project: 5\n",
      "  Cover: 15\n",
      "  MIR: 41\n",
      "  StrongCG: 14\n",
      "  Flow cover: 16\n",
      "  RLT: 10\n",
      "\n",
      "Explored 31652 nodes (812096 simplex iterations) in 216.13 seconds (183.82 work units)\n",
      "Thread count was 8 (of 8 available processors)\n",
      "\n",
      "Solution count 10: 14352 14352.2 14352.2 ... 14352.5\n",
      "\n",
      "Optimal solution found (tolerance 1.00e-04)\n",
      "Best objective 1.435202502839e+04, best bound 1.435071792301e+04, gap 0.0091%\n",
      "\n",
      "User-callback calls 88994, time in user-callback 0.07 sec\n"
     ]
    }
   ],
   "source": [
    "# model, solve_time= solve!(env; optimizer=:Cbc, opt_options=Dict(\"logLevel\"=>0, \"ratioGap\"=>10e-3));\n",
    "model, solve_time= solve!(env; optimizer=:Gurobi);"
   ]
  },
  {
   "cell_type": "code",
   "execution_count": 8,
   "metadata": {},
   "outputs": [
    {
     "name": "stdout",
     "output_type": "stream",
     "text": [
      "solve_time = 216.17300009727478\n"
     ]
    },
    {
     "data": {
      "text/plain": [
       "216.17300009727478"
      ]
     },
     "metadata": {},
     "output_type": "display_data"
    }
   ],
   "source": [
    "@show solve_time"
   ]
  },
  {
   "cell_type": "code",
   "execution_count": 9,
   "metadata": {},
   "outputs": [
    {
     "name": "stdout",
     "output_type": "stream",
     "text": [
      "👍The solution is feasible!\n"
     ]
    }
   ],
   "source": [
    "# @show model\n",
    "x = get_decision_matrix(model)\n",
    "validate_solution_feasibility(x, env)"
   ]
  },
  {
   "cell_type": "code",
   "execution_count": 10,
   "metadata": {},
   "outputs": [
    {
     "data": {
      "text/plain": [
       "14352.025028387176"
      ]
     },
     "metadata": {},
     "output_type": "display_data"
    }
   ],
   "source": [
    "obj = get_value(model[:obj])"
   ]
  },
  {
   "cell_type": "code",
   "execution_count": 11,
   "metadata": {},
   "outputs": [
    {
     "data": {
      "text/plain": [
       "(971.36397108604, 3778.6092421129324)"
      ]
     },
     "metadata": {},
     "output_type": "display_data"
    }
   ],
   "source": [
    "get_value(model[:P_total])  |> extrema"
   ]
  },
  {
   "cell_type": "code",
   "execution_count": 12,
   "metadata": {},
   "outputs": [],
   "source": [
    "root_dir = @__DIR__ \n",
    "jldsave(joinpath(root_dir, \"data/tasks113.jld2\"); env, x, obj)"
   ]
  },
  {
   "cell_type": "markdown",
   "metadata": {},
   "source": [
    "<h1> Greedy optimization </h1>"
   ]
  },
  {
   "cell_type": "code",
   "execution_count": 13,
   "metadata": {},
   "outputs": [
    {
     "data": {
      "text/plain": [
       "([0 1 … 0 1; 0 0 … 0 0; … ; 0 0 … 0 0; 0 0 … 0 0], 0.34800004959106445)"
      ]
     },
     "metadata": {},
     "output_type": "display_data"
    }
   ],
   "source": [
    "result, GY_solve_time = run_greedy(env)"
   ]
  },
  {
   "cell_type": "code",
   "execution_count": 14,
   "metadata": {},
   "outputs": [
    {
     "data": {
      "text/plain": [
       "14385.4158111862"
      ]
     },
     "metadata": {},
     "output_type": "display_data"
    }
   ],
   "source": [
    "get_value_greedy(result, env)"
   ]
  },
  {
   "cell_type": "code",
   "execution_count": 15,
   "metadata": {},
   "outputs": [
    {
     "name": "stdout",
     "output_type": "stream",
     "text": [
      "👍The solution is feasible!\n"
     ]
    }
   ],
   "source": [
    "validate_solution_feasibility(result, env)"
   ]
  },
  {
   "cell_type": "code",
   "execution_count": 16,
   "metadata": {},
   "outputs": [
    {
     "name": "stdout",
     "output_type": "stream",
     "text": [
      "err_power = Float64[]\n",
      "err_imb = Float64[]\n"
     ]
    }
   ],
   "source": [
    "power = compute_power(result, env)\n",
    "P_total = sum(power, dims=2)\n",
    "err_power = filter(x -> x > env.P_max, P_total)\n",
    "imb = compute_imbalance(power)\n",
    "err_imb = filter(x -> x > env.pi_max, imb)\n",
    "@show err_power\n",
    "@show err_imb\n",
    ";"
   ]
  },
  {
   "cell_type": "code",
   "execution_count": 17,
   "metadata": {},
   "outputs": [
    {
     "name": "stdout",
     "output_type": "stream",
     "text": [
      "err_h = Int64[]\n"
     ]
    }
   ],
   "source": [
    "exp_h = env.tasks.h\n",
    "gdy_h = sum(result, dims=1) |> vec\n",
    "err = exp_h - gdy_h\n",
    "err_h = filter(x -> x != 0, err)\n",
    "@show err_h\n",
    ";"
   ]
  }
 ],
 "metadata": {
  "kernelspec": {
   "display_name": "Julia 1.9.3",
   "language": "julia",
   "name": "julia-1.9"
  },
  "language_info": {
   "file_extension": ".jl",
   "mimetype": "application/julia",
   "name": "julia",
   "version": "1.9.3"
  }
 },
 "nbformat": 4,
 "nbformat_minor": 2
}
